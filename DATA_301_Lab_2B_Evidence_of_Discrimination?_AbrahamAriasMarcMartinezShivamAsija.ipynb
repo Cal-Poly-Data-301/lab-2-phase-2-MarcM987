{
  "nbformat": 4,
  "nbformat_minor": 0,
  "metadata": {
    "kernelspec": {
      "display_name": "Python 3",
      "language": "python",
      "name": "python3"
    },
    "language_info": {
      "codemirror_mode": {
        "name": "ipython",
        "version": 3
      },
      "file_extension": ".py",
      "mimetype": "text/x-python",
      "name": "python",
      "nbconvert_exporter": "python",
      "pygments_lexer": "ipython3",
      "version": "3.6.4"
    },
    "colab": {
      "name": "DATA 301 Lab 2B. Evidence of Discrimination? - AbrahamAriasMarcMartinezShivamAsija",
      "provenance": [],
      "collapsed_sections": [],
      "include_colab_link": true
    }
  },
  "cells": [
    {
      "cell_type": "markdown",
      "metadata": {
        "id": "view-in-github",
        "colab_type": "text"
      },
      "source": [
        "<a href=\"https://colab.research.google.com/github/Cal-Poly-Data-301/lab-2-phase-2-MarcM987/blob/main/DATA_301_Lab_2B_Evidence_of_Discrimination%3F_AbrahamAriasMarcMartinezShivamAsija.ipynb\" target=\"_parent\"><img src=\"https://colab.research.google.com/assets/colab-badge.svg\" alt=\"Open In Colab\"/></a>"
      ]
    },
    {
      "cell_type": "markdown",
      "metadata": {
        "id": "3GRr9ej57rEW"
      },
      "source": [
        "# Evidence of Discrimination?\n",
        "\n",
        "The Department of Developmental Services (DDS) in California is responsible for allocating funds to support over 250,000 developmentally-disabled residents. The data set `https://dlsun.github.io/pods/data/ca_dds_expenditures.csv` contains data about 1,000 of these residents. The data comes from a discrimination lawsuit which alleged that California's Department of Developmental Services (DDS) privileged white (non-Hispanic) residents over Hispanic residents in allocating funds. We will focus on comparing the allocation of funds (i.e., expenditures) for these two ethnicities only, although there are other ethnicities in this data set.\n",
        "\n",
        "There are 6 variables in this data set:\n",
        "\n",
        "- Id:  5-digit, unique identification code for each consumer (similar to a social security number and used for identification purposes)  \n",
        "- Age Cohort:  Binned age variable represented as six age cohorts (0-5, 6-12, 13-17, 18-21, 22-50, and 51+)\n",
        "- Age:  Unbinned age variable\n",
        "- Gender:  Male or Female\n",
        "- Expenditures:  Dollar amount of annual expenditures spent on each consumer\n",
        "- Ethnicity:  Eight ethnic groups (American Indian, Asian, Black, Hispanic, Multi-race, Native Hawaiian, Other, and White non-Hispanic)"
      ]
    },
    {
      "cell_type": "markdown",
      "metadata": {
        "id": "pBrvxdVd7rEY"
      },
      "source": [
        "# Question 1\n",
        "\n",
        "Read in the data set. Make a graphic that compares the _average_ expenditures by the DDS on Hispanic residents and white (non-Hispanic) residents. Comment on what you see."
      ]
    },
    {
      "cell_type": "code",
      "metadata": {
        "id": "HPu1DTOY7rEa",
        "colab": {
          "base_uri": "https://localhost:8080/",
          "height": 424
        },
        "outputId": "18913550-f703-47bd-d6ff-76320fc9b492"
      },
      "source": [
        "import pandas as pd\n",
        "\n",
        "df_dds_exp = pd.read_csv(\"https://dlsun.github.io/pods/data/ca_dds_expenditures.csv\")\n",
        "df_dds_exp"
      ],
      "execution_count": null,
      "outputs": [
        {
          "output_type": "execute_result",
          "data": {
            "text/html": [
              "\n",
              "  <div id=\"df-1a80d28d-d076-4375-bc21-3d5583969a1c\">\n",
              "    <div class=\"colab-df-container\">\n",
              "      <div>\n",
              "<style scoped>\n",
              "    .dataframe tbody tr th:only-of-type {\n",
              "        vertical-align: middle;\n",
              "    }\n",
              "\n",
              "    .dataframe tbody tr th {\n",
              "        vertical-align: top;\n",
              "    }\n",
              "\n",
              "    .dataframe thead th {\n",
              "        text-align: right;\n",
              "    }\n",
              "</style>\n",
              "<table border=\"1\" class=\"dataframe\">\n",
              "  <thead>\n",
              "    <tr style=\"text-align: right;\">\n",
              "      <th></th>\n",
              "      <th>Id</th>\n",
              "      <th>Age Cohort</th>\n",
              "      <th>Age</th>\n",
              "      <th>Gender</th>\n",
              "      <th>Expenditures</th>\n",
              "      <th>Ethnicity</th>\n",
              "    </tr>\n",
              "  </thead>\n",
              "  <tbody>\n",
              "    <tr>\n",
              "      <th>0</th>\n",
              "      <td>10210</td>\n",
              "      <td>13 to 17</td>\n",
              "      <td>17</td>\n",
              "      <td>Female</td>\n",
              "      <td>2113</td>\n",
              "      <td>White not Hispanic</td>\n",
              "    </tr>\n",
              "    <tr>\n",
              "      <th>1</th>\n",
              "      <td>10409</td>\n",
              "      <td>22 to 50</td>\n",
              "      <td>37</td>\n",
              "      <td>Male</td>\n",
              "      <td>41924</td>\n",
              "      <td>White not Hispanic</td>\n",
              "    </tr>\n",
              "    <tr>\n",
              "      <th>2</th>\n",
              "      <td>10486</td>\n",
              "      <td>0 to 5</td>\n",
              "      <td>3</td>\n",
              "      <td>Male</td>\n",
              "      <td>1454</td>\n",
              "      <td>Hispanic</td>\n",
              "    </tr>\n",
              "    <tr>\n",
              "      <th>3</th>\n",
              "      <td>10538</td>\n",
              "      <td>18 to 21</td>\n",
              "      <td>19</td>\n",
              "      <td>Female</td>\n",
              "      <td>6400</td>\n",
              "      <td>Hispanic</td>\n",
              "    </tr>\n",
              "    <tr>\n",
              "      <th>4</th>\n",
              "      <td>10568</td>\n",
              "      <td>13 to 17</td>\n",
              "      <td>13</td>\n",
              "      <td>Male</td>\n",
              "      <td>4412</td>\n",
              "      <td>White not Hispanic</td>\n",
              "    </tr>\n",
              "    <tr>\n",
              "      <th>...</th>\n",
              "      <td>...</td>\n",
              "      <td>...</td>\n",
              "      <td>...</td>\n",
              "      <td>...</td>\n",
              "      <td>...</td>\n",
              "      <td>...</td>\n",
              "    </tr>\n",
              "    <tr>\n",
              "      <th>995</th>\n",
              "      <td>99622</td>\n",
              "      <td>51+</td>\n",
              "      <td>86</td>\n",
              "      <td>Female</td>\n",
              "      <td>57055</td>\n",
              "      <td>White not Hispanic</td>\n",
              "    </tr>\n",
              "    <tr>\n",
              "      <th>996</th>\n",
              "      <td>99715</td>\n",
              "      <td>18 to 21</td>\n",
              "      <td>20</td>\n",
              "      <td>Male</td>\n",
              "      <td>7494</td>\n",
              "      <td>Hispanic</td>\n",
              "    </tr>\n",
              "    <tr>\n",
              "      <th>997</th>\n",
              "      <td>99718</td>\n",
              "      <td>13 to 17</td>\n",
              "      <td>17</td>\n",
              "      <td>Female</td>\n",
              "      <td>3673</td>\n",
              "      <td>Multi Race</td>\n",
              "    </tr>\n",
              "    <tr>\n",
              "      <th>998</th>\n",
              "      <td>99791</td>\n",
              "      <td>6 to 12</td>\n",
              "      <td>10</td>\n",
              "      <td>Male</td>\n",
              "      <td>3638</td>\n",
              "      <td>Hispanic</td>\n",
              "    </tr>\n",
              "    <tr>\n",
              "      <th>999</th>\n",
              "      <td>99898</td>\n",
              "      <td>22 to 50</td>\n",
              "      <td>23</td>\n",
              "      <td>Male</td>\n",
              "      <td>26702</td>\n",
              "      <td>White not Hispanic</td>\n",
              "    </tr>\n",
              "  </tbody>\n",
              "</table>\n",
              "<p>1000 rows × 6 columns</p>\n",
              "</div>\n",
              "      <button class=\"colab-df-convert\" onclick=\"convertToInteractive('df-1a80d28d-d076-4375-bc21-3d5583969a1c')\"\n",
              "              title=\"Convert this dataframe to an interactive table.\"\n",
              "              style=\"display:none;\">\n",
              "        \n",
              "  <svg xmlns=\"http://www.w3.org/2000/svg\" height=\"24px\"viewBox=\"0 0 24 24\"\n",
              "       width=\"24px\">\n",
              "    <path d=\"M0 0h24v24H0V0z\" fill=\"none\"/>\n",
              "    <path d=\"M18.56 5.44l.94 2.06.94-2.06 2.06-.94-2.06-.94-.94-2.06-.94 2.06-2.06.94zm-11 1L8.5 8.5l.94-2.06 2.06-.94-2.06-.94L8.5 2.5l-.94 2.06-2.06.94zm10 10l.94 2.06.94-2.06 2.06-.94-2.06-.94-.94-2.06-.94 2.06-2.06.94z\"/><path d=\"M17.41 7.96l-1.37-1.37c-.4-.4-.92-.59-1.43-.59-.52 0-1.04.2-1.43.59L10.3 9.45l-7.72 7.72c-.78.78-.78 2.05 0 2.83L4 21.41c.39.39.9.59 1.41.59.51 0 1.02-.2 1.41-.59l7.78-7.78 2.81-2.81c.8-.78.8-2.07 0-2.86zM5.41 20L4 18.59l7.72-7.72 1.47 1.35L5.41 20z\"/>\n",
              "  </svg>\n",
              "      </button>\n",
              "      \n",
              "  <style>\n",
              "    .colab-df-container {\n",
              "      display:flex;\n",
              "      flex-wrap:wrap;\n",
              "      gap: 12px;\n",
              "    }\n",
              "\n",
              "    .colab-df-convert {\n",
              "      background-color: #E8F0FE;\n",
              "      border: none;\n",
              "      border-radius: 50%;\n",
              "      cursor: pointer;\n",
              "      display: none;\n",
              "      fill: #1967D2;\n",
              "      height: 32px;\n",
              "      padding: 0 0 0 0;\n",
              "      width: 32px;\n",
              "    }\n",
              "\n",
              "    .colab-df-convert:hover {\n",
              "      background-color: #E2EBFA;\n",
              "      box-shadow: 0px 1px 2px rgba(60, 64, 67, 0.3), 0px 1px 3px 1px rgba(60, 64, 67, 0.15);\n",
              "      fill: #174EA6;\n",
              "    }\n",
              "\n",
              "    [theme=dark] .colab-df-convert {\n",
              "      background-color: #3B4455;\n",
              "      fill: #D2E3FC;\n",
              "    }\n",
              "\n",
              "    [theme=dark] .colab-df-convert:hover {\n",
              "      background-color: #434B5C;\n",
              "      box-shadow: 0px 1px 3px 1px rgba(0, 0, 0, 0.15);\n",
              "      filter: drop-shadow(0px 1px 2px rgba(0, 0, 0, 0.3));\n",
              "      fill: #FFFFFF;\n",
              "    }\n",
              "  </style>\n",
              "\n",
              "      <script>\n",
              "        const buttonEl =\n",
              "          document.querySelector('#df-1a80d28d-d076-4375-bc21-3d5583969a1c button.colab-df-convert');\n",
              "        buttonEl.style.display =\n",
              "          google.colab.kernel.accessAllowed ? 'block' : 'none';\n",
              "\n",
              "        async function convertToInteractive(key) {\n",
              "          const element = document.querySelector('#df-1a80d28d-d076-4375-bc21-3d5583969a1c');\n",
              "          const dataTable =\n",
              "            await google.colab.kernel.invokeFunction('convertToInteractive',\n",
              "                                                     [key], {});\n",
              "          if (!dataTable) return;\n",
              "\n",
              "          const docLinkHtml = 'Like what you see? Visit the ' +\n",
              "            '<a target=\"_blank\" href=https://colab.research.google.com/notebooks/data_table.ipynb>data table notebook</a>'\n",
              "            + ' to learn more about interactive tables.';\n",
              "          element.innerHTML = '';\n",
              "          dataTable['output_type'] = 'display_data';\n",
              "          await google.colab.output.renderOutput(dataTable, element);\n",
              "          const docLink = document.createElement('div');\n",
              "          docLink.innerHTML = docLinkHtml;\n",
              "          element.appendChild(docLink);\n",
              "        }\n",
              "      </script>\n",
              "    </div>\n",
              "  </div>\n",
              "  "
            ],
            "text/plain": [
              "        Id Age Cohort  Age  Gender  Expenditures           Ethnicity\n",
              "0    10210   13 to 17   17  Female          2113  White not Hispanic\n",
              "1    10409   22 to 50   37    Male         41924  White not Hispanic\n",
              "2    10486     0 to 5    3    Male          1454            Hispanic\n",
              "3    10538   18 to 21   19  Female          6400            Hispanic\n",
              "4    10568   13 to 17   13    Male          4412  White not Hispanic\n",
              "..     ...        ...  ...     ...           ...                 ...\n",
              "995  99622        51+   86  Female         57055  White not Hispanic\n",
              "996  99715   18 to 21   20    Male          7494            Hispanic\n",
              "997  99718   13 to 17   17  Female          3673          Multi Race\n",
              "998  99791    6 to 12   10    Male          3638            Hispanic\n",
              "999  99898   22 to 50   23    Male         26702  White not Hispanic\n",
              "\n",
              "[1000 rows x 6 columns]"
            ]
          },
          "metadata": {},
          "execution_count": 1
        }
      ]
    },
    {
      "cell_type": "code",
      "source": [
        "df_dds_exp_hw = df_dds_exp.loc[(df_dds_exp[\"Ethnicity\"] == \"Hispanic\") | \n",
        "                (df_dds_exp[\"Ethnicity\"] == \"White not Hispanic\")]\n",
        "df_dds_exp_hw.groupby(\"Ethnicity\")[\"Expenditures\"].mean().plot.bar()"
      ],
      "metadata": {
        "colab": {
          "base_uri": "https://localhost:8080/",
          "height": 382
        },
        "id": "K-uc_Mo5tzv1",
        "outputId": "647a2be9-9429-4082-b76a-038b09b66a39"
      },
      "execution_count": null,
      "outputs": [
        {
          "output_type": "execute_result",
          "data": {
            "text/plain": [
              "<matplotlib.axes._subplots.AxesSubplot at 0x7f1c387d54d0>"
            ]
          },
          "metadata": {},
          "execution_count": 2
        },
        {
          "output_type": "display_data",
          "data": {
            "image/png": "[encoded data removed]",
            "text/plain": [
              "<Figure size 432x288 with 1 Axes>"
            ]
          },
          "metadata": {
            "needs_background": "light"
          }
        }
      ]
    },
    {
      "cell_type": "markdown",
      "metadata": {
        "id": "FvfRcog37rEf"
      },
      "source": [
        "**YOUR EXPLANATION HERE**"
      ]
    },
    {
      "cell_type": "markdown",
      "source": [
        "The graph above shows very clearly that the White not Hispanic is on average given signifcantly more in expenses than Hispanic"
      ],
      "metadata": {
        "id": "u-PjYQXuv07A"
      }
    },
    {
      "cell_type": "markdown",
      "metadata": {
        "id": "CmxE7M3o7rEg"
      },
      "source": [
        "# Question 2\n",
        "\n",
        "Now, calculate the average expenditures by ethnicity and age cohort. Make a graphic that compares the average expenditure on Hispanic residents and white (non-Hispanic) residents, _within each age cohort_. \n",
        "\n",
        "Comment on what you see. How do these results appear to contradict the results you obtained in Question 1?"
      ]
    },
    {
      "cell_type": "code",
      "metadata": {
        "id": "u_J1LRI37rEh",
        "colab": {
          "base_uri": "https://localhost:8080/",
          "height": 437
        },
        "outputId": "8bc15248-cb32-4d42-f87a-c755d77e453b"
      },
      "source": [
        "# YOUR CODE HERE\n",
        "df_dds_exp_hw.groupby([\"Ethnicity\", \"Age Cohort\"])[\"Expenditures\"].mean().plot.bar()"
      ],
      "execution_count": null,
      "outputs": [
        {
          "output_type": "execute_result",
          "data": {
            "text/plain": [
              "<matplotlib.axes._subplots.AxesSubplot at 0x7f1c387f2d90>"
            ]
          },
          "metadata": {},
          "execution_count": 3
        },
        {
          "output_type": "display_data",
          "data": {
            "image/png": "[encoded data removed]",
            "text/plain": [
              "<Figure size 432x288 with 1 Axes>"
            ]
          },
          "metadata": {
            "needs_background": "light"
          }
        }
      ]
    },
    {
      "cell_type": "markdown",
      "metadata": {
        "id": "CFriAmRB7rEl"
      },
      "source": [
        "**YOUR EXPLANATION HERE**"
      ]
    },
    {
      "cell_type": "markdown",
      "source": [
        "These results of this graphic appear to contradict the previous graphic as, for each group within each of the two ethnicities, the funding is relatively equal."
      ],
      "metadata": {
        "id": "-AEp_enr0Dqz"
      }
    },
    {
      "cell_type": "markdown",
      "metadata": {
        "id": "vNJHIPO77rEm"
      },
      "source": [
        "# Question 3\n",
        "\n",
        "Can you explain the discrepancy between the two analyses you conducted above (i.e., Questions 1 and 2)? Try to tell a complete story that interweaves tables, graphics, and explanation.\n",
        "\n",
        "_Hint:_ You might want to consider looking at:\n",
        "\n",
        "- the distributions of ages of Hispanics and whites\n",
        "- the average expenditure as a function of age"
      ]
    },
    {
      "cell_type": "code",
      "metadata": {
        "id": "mo4aLinP7rEn",
        "colab": {
          "base_uri": "https://localhost:8080/",
          "height": 265
        },
        "outputId": "20c70631-5335-4eb9-d937-4a3145fee0f2"
      },
      "source": [
        "# YOUR CODE HERE (although you may want to add more code cells)\n",
        "import matplotlib.pyplot as plt\n",
        "df_dds_exp_h = df_dds_exp.loc[df_dds_exp[\"Ethnicity\"] == \"Hispanic\"]\n",
        "df_dds_exp_w = df_dds_exp.loc[df_dds_exp[\"Ethnicity\"] == \"White not Hispanic\"]\n",
        "\n",
        "#df_dds_exp_hw[[\"Age\", \"Ethnicity\"]].plot.density(xlim=(0,100))\n",
        "df_dds_exp_h[[\"Age\", \"Ethnicity\"]].plot.density(xlim=(0,100), \n",
        "                                                color = \"blue\")\n",
        "df_dds_exp_w[[\"Age\", \"Ethnicity\"]].plot.density(xlim=(0,100), \n",
        "                                                ax=plt.gca(), \n",
        "                                                color = \"green\"\n",
        "                                                )\n",
        "ax=plt.legend([\"Hispanic\",\"White\"]) "
      ],
      "execution_count": null,
      "outputs": [
        {
          "output_type": "display_data",
          "data": {
            "image/png": "[encoded data removed]",
            "text/plain": [
              "<Figure size 432x288 with 1 Axes>"
            ]
          },
          "metadata": {
            "needs_background": "light"
          }
        }
      ]
    },
    {
      "cell_type": "markdown",
      "metadata": {
        "id": "dmdJ1RTp7rEq"
      },
      "source": [
        "**YOUR EXPLANATION HERE (although you may want to add more markdown cells)**"
      ]
    },
    {
      "cell_type": "markdown",
      "source": [
        "Previously we looked at the average expenditure for Hispanic and White non-Hispanic within each age group. However, the graphic did not account for possible disparatities in the frequency of an age group with its mean expenditure. This new visual shows us that this discrepancy does indeed exist. As in order for this unequal age distribution and the even average in the prior visual to occur, the total expenditure must not be even. However, I am not sure whether this indicates a disaprity between purely ethnicities, outside of certain age groups for each ethnicity being helped more or less than another age group. "
      ],
      "metadata": {
        "id": "UBlPw8qx2EQU"
      }
    },
    {
      "cell_type": "code",
      "source": [
        "df_dds_exp_hw.groupby(\"Age\")[\"Expenditures\"].mean().plot()"
      ],
      "metadata": {
        "colab": {
          "base_uri": "https://localhost:8080/",
          "height": 297
        },
        "id": "9bmzeLL313s8",
        "outputId": "ed011b8a-d76f-4fb7-95f0-6b8bebb51df5"
      },
      "execution_count": null,
      "outputs": [
        {
          "output_type": "execute_result",
          "data": {
            "text/plain": [
              "<matplotlib.axes._subplots.AxesSubplot at 0x7f1c287a3310>"
            ]
          },
          "metadata": {},
          "execution_count": 5
        },
        {
          "output_type": "display_data",
          "data": {
            "image/png": "[encoded data removed]",
            "text/plain": [
              "<Figure size 432x288 with 1 Axes>"
            ]
          },
          "metadata": {
            "needs_background": "light"
          }
        }
      ]
    },
    {
      "cell_type": "markdown",
      "source": [
        "This graph is simply showing that as age increase then in general so does the expedniture mean. Giving us a better picture of the overall data, however, it remain difficult to arrive at a definitive conclusion."
      ],
      "metadata": {
        "id": "p52Jcv1e151L"
      }
    },
    {
      "cell_type": "markdown",
      "metadata": {
        "id": "4JdcqKm57rEr"
      },
      "source": [
        "## Submission Instructions\n",
        "\n",
        "- Copy this notebook to your own Drive, if you have not already.\n",
        "- Restart this notebook and run the cells from beginning to end. \n",
        "  - Go to Runtime > Restart and Run All.\n",
        "- Rename this notebook by clicking on \"DATA 301 Lab 2B - YOUR NAME HERE\" at the very top of this page. Replace \"YOUR NAMES HERE\" with the first and last names of you (and your partners, for Phase 2).\n",
        "- Get the link to your notebook:\n",
        "  - Click on \"Share\" at the top-right. \n",
        "  - Change the settings to \"Anyone with the link can view\". \n",
        "  - Copy the sharing link into Canvas."
      ]
    }
  ]
}